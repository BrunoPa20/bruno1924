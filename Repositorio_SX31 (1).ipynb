{
  "nbformat": 4,
  "nbformat_minor": 0,
  "metadata": {
    "colab": {
      "name": "Repositorio-SX31.ipynb",
      "provenance": []
    },
    "kernelspec": {
      "name": "python3",
      "display_name": "Python 3"
    },
    "language_info": {
      "name": "python"
    }
  },
  "cells": [
    {
      "cell_type": "markdown",
      "metadata": {
        "id": "kyzttyRFN7WJ"
      },
      "source": [
        ""
      ]
    },
    {
      "cell_type": "markdown",
      "metadata": {
        "id": "ECRhsUpudh8_"
      },
      "source": [
        "#Semana1\n",
        "* Analisis de complejidad algoritmica\n",
        "* Manejo de notebooks en google colab\n",
        "* Intro templates\n"
      ]
    },
    {
      "cell_type": "code",
      "metadata": {
        "colab": {
          "base_uri": "https://localhost:8080/"
        },
        "id": "5y1PvCJxQWJj",
        "outputId": "e27e4aeb-1eb6-4375-d9fd-bda5aacfca05"
      },
      "source": [
        "%%writefile programa1.cpp\n",
        "#include <iostream>\n",
        "using namespace std;\n",
        "int main(){\n",
        "    cout << \"Programando con google colab\";\n",
        "    return 0;\n",
        "}\n"
      ],
      "execution_count": null,
      "outputs": [
        {
          "output_type": "stream",
          "text": [
            "Overwriting programa1.cpp\n"
          ],
          "name": "stdout"
        }
      ]
    },
    {
      "cell_type": "code",
      "metadata": {
        "id": "ytneuxPIRZol"
      },
      "source": [
        "#compilar programa en c++ desde linea de comandos\n",
        "!g++ --std=c++14 programa1.cpp"
      ],
      "execution_count": null,
      "outputs": []
    },
    {
      "cell_type": "code",
      "metadata": {
        "colab": {
          "base_uri": "https://localhost:8080/"
        },
        "id": "_8FrvVA0TxUn",
        "outputId": "ef394023-9497-4d9a-ab59-e35c8e5a2928"
      },
      "source": [
        "%%writefile templates.cpp\n",
        "#include <iostream>\n",
        "using namespace std;\n",
        "template <typename Tipo>\n",
        "Tipo suma(Tipo variable1, Tipo variable2){return variable1+variable2;}\n",
        "int main(){\n",
        "    int a=2,b=5;\n",
        "    short m=15,n=10;\n",
        "    float x=12.4,y=8.9;\n",
        "    cout <<suma<int>(a,b)<<endl;\n",
        "    cout <<suma<short>(m,n)<<endl;\n",
        "    cout <<suma<float>(x,y)<<endl;\n",
        "    return 0;\n",
        "\n",
        "}"
      ],
      "execution_count": null,
      "outputs": [
        {
          "output_type": "stream",
          "text": [
            "Overwriting templates.cpp\n"
          ],
          "name": "stdout"
        }
      ]
    },
    {
      "cell_type": "code",
      "metadata": {
        "colab": {
          "base_uri": "https://localhost:8080/"
        },
        "id": "3_XFql7vWdyL",
        "outputId": "986cb26f-b0a0-4a62-8f69-c28bc9725423"
      },
      "source": [
        "!g++ --std=c++14 templates.cpp -o templates.exe & ./templates.exe"
      ],
      "execution_count": null,
      "outputs": [
        {
          "output_type": "stream",
          "text": [
            "7\n",
            "25\n",
            "21.3\n",
            "5\n",
            "15\n",
            "12.4\n"
          ],
          "name": "stdout"
        }
      ]
    },
    {
      "cell_type": "markdown",
      "metadata": {
        "id": "qp1PaCGYfc4U"
      },
      "source": [
        "#Semana2\n",
        "* Containers con templates\n",
        "* Sobrecarga de operadores\n",
        "* Manipulacion de archivos\n",
        "* Recursividad \n",
        "* Lambdas"
      ]
    },
    {
      "cell_type": "code",
      "metadata": {
        "id": "DTZx6NLEgHkH"
      },
      "source": [
        "%%writefile container.cpp\n",
        "template <class Tipo>\n",
        "class Arreglo(\n",
        "    Tipo* datos;\n",
        "    unsigned long max;\n",
        "    log indice;\n",
        "    public:\n",
        "    Arreglo(){\n",
        "        max=10;\n",
        "        datos=new Tipo[capacidad];\n",
        "        indice=-1;// el arreglo esta vacio\n",
        "      \n",
        "    }\n",
        "    void push_back(Tipo valor){\n",
        "        indice++\n",
        "        datos[indice]=valor\n",
        "    }else\n",
        "    cout<<\"contenedor lleno\";\n",
        "\n",
        ")"
      ],
      "execution_count": null,
      "outputs": []
    },
    {
      "cell_type": "markdown",
      "metadata": {
        "id": "CzVWAAm0OBcB"
      },
      "source": [
        "# Semana 3-Listas enlazadas\n",
        "\n",
        "\n",
        "\n",
        "\n"
      ]
    },
    {
      "cell_type": "code",
      "metadata": {
        "id": "r5XMlFPoOis7"
      },
      "source": [
        "%%writefile listas.cpp\n",
        "#inculde <iostream>\n",
        "using namespace std;\n",
        "\n",
        "struct Nodo{\n",
        "    short valor;\n",
        "    Nodo* sig;\n",
        "    Nodo(short v=0, Nodo* s=nullptr){valor=v;sig=s}\n",
        "\n",
        "};\n",
        "\n",
        "int main(){\n",
        "    Nodo* nodo1=new Nodo(10);\n",
        "    Nodo* nodo2=new Nodo(20);\n",
        "    Nodo* nodo3=new Nodo(30);\n",
        "    Nodo* nodo4=new Nodo(40);\n",
        "    //enlazar los nodos al final\n",
        "    nodo1->sig=nodo2;\n",
        "    nodo2->sig=nodo3;\n",
        "    nodo3->sig=nodo4;\n",
        "    Nodo* aux=nodo1;\n",
        "    while(aux!=nullptr){\n",
        "        cout<<aux->valor<<\"-->\";\n",
        "        aux=aux->sig;\n",
        "    }\n",
        "cout <<\"nullptr\\n\";\n",
        "Nodo* n1=new Nodo();\n",
        "Nodo* n2=new Nodo(10,n1);\n",
        "Nodo* n3=new Nodo(20,n2);\n",
        "Nodo* n4=new Nodo(30,n3);\n",
        "aux=n4;\n",
        "while(aux!=nullptr){\n",
        "        cout<<aux->valor<<\"-->\";\n",
        "        aux=aux->sig;\n",
        "    }\n",
        "    cout<< \"nullptr\";\n",
        "}"
      ],
      "execution_count": null,
      "outputs": []
    },
    {
      "cell_type": "code",
      "metadata": {
        "colab": {
          "base_uri": "https://localhost:8080/"
        },
        "id": "UTpAa1ipVNzC",
        "outputId": "a004630d-4846-4ace-e93a-7a194679d1cd"
      },
      "source": [
        "!g++ --std=c++14 listas.cpp && ./a.out"
      ],
      "execution_count": null,
      "outputs": [
        {
          "output_type": "stream",
          "text": [
            "\u001b[01m\u001b[Kg++:\u001b[m\u001b[K \u001b[01;31m\u001b[Kerror: \u001b[m\u001b[Klistas.cpp: No such file or directory\n",
            "\u001b[01m\u001b[Kg++:\u001b[m\u001b[K \u001b[01;31m\u001b[Kfatal error: \u001b[m\u001b[Kno input files\n",
            "compilation terminated.\n"
          ],
          "name": "stdout"
        }
      ]
    },
    {
      "cell_type": "code",
      "metadata": {
        "id": "4Jz1FZHuWyvf"
      },
      "source": [
        ""
      ],
      "execution_count": null,
      "outputs": []
    },
    {
      "cell_type": "code",
      "metadata": {
        "id": "cl9G0o2oVjQ6"
      },
      "source": [
        ""
      ],
      "execution_count": null,
      "outputs": []
    },
    {
      "cell_type": "code",
      "metadata": {
        "id": "uh3ZT_7XVYQg"
      },
      "source": [
        ""
      ],
      "execution_count": null,
      "outputs": []
    }
  ]
}